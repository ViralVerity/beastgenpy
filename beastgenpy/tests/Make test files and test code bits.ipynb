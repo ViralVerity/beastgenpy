{
 "cells": [
  {
   "cell_type": "code",
   "execution_count": 1,
   "metadata": {},
   "outputs": [],
   "source": [
    "from collections import defaultdict\n",
    "import csv\n",
    "import dendropy\n",
    "from Bio import SeqIO"
   ]
  },
  {
   "cell_type": "code",
   "execution_count": 3,
   "metadata": {},
   "outputs": [],
   "source": [
    "annotations_file = \"/Users/s1743989/VirusEvolution Dropbox/Group/Coronavirus_projects/UK_project/within_UK_analysis/overall_data_final_versions/final_metadata.csv\"\n",
    "\n"
   ]
  },
  {
   "cell_type": "code",
   "execution_count": 7,
   "metadata": {},
   "outputs": [],
   "source": [
    "wanted_lins = [\"MCC_DTA_45\",\"MCC_DTA_67\", \"MCC_DTA_115\"]\n",
    "\n",
    "fw = open(\"test_annotations_for_multitree.csv\", 'w')\n",
    "fw.write(\"sequence_name,location\\n\")\n",
    "f2 = open(\"IDs_multitree.txt\", 'w')\n",
    "with open(annotations_file) as f:\n",
    "    data = csv.DictReader(f)\n",
    "    for l in data:\n",
    "        if l[\"introduction\"] in wanted_lins:\n",
    "            fw.write(f\"{l['alignment_name']},{l['adm2']}\\n\")\n",
    "            f2.write(l['alignment_name'] + \"\\n\")\n",
    "            \n",
    "fw.close()\n",
    "f2.close()"
   ]
  },
  {
   "cell_type": "code",
   "execution_count": 13,
   "metadata": {},
   "outputs": [],
   "source": [
    "fw = open(\"test_annotations_for_45.csv\", 'w')\n",
    "fw.write(\"sequence_name,location\\n\")\n",
    "with open(annotations_file) as f:\n",
    "    for l in f:\n",
    "        if l.strip(\"\\n\").split(\",\")[0] in seq_ids:\n",
    "            fw.write(l)\n",
    "            \n",
    "fw.close()"
   ]
  },
  {
   "cell_type": "code",
   "execution_count": 16,
   "metadata": {},
   "outputs": [],
   "source": [
    "trait = 'location'\n",
    "trait_dict = defaultdict(list)\n",
    "all_trait_options = defaultdict(set)\n",
    "with open(\"test_annotations_for_45.csv\") as f:\n",
    "    data = csv.DictReader(f)\n",
    "    for line in data:\n",
    "        name = line[\"sequence_name\"]\n",
    "\n",
    "        trait_dict[name].append(line[trait])\n",
    "        all_trait_options[trait].add(line[trait])"
   ]
  },
  {
   "cell_type": "code",
   "execution_count": 18,
   "metadata": {},
   "outputs": [
    {
     "name": "stdout",
     "output_type": "stream",
     "text": [
      "18\n",
      "{'NORTH_LANARKSHIRE', 'ARGYLL_AND_BUTE', 'GLASGOW', 'RENFREWSHIRE', 'WEST_DUNBARTONSHIRE', 'EAST_AYRSHIRE', 'PERTHSHIRE_AND_KINROSS', 'WEST_LOTHIAN', 'INVERCLYDE', 'FALKIRK', 'EAST_RENFREWSHIRE', 'EAST_DUNBARTONSHIRE', 'LINCOLNSHIRE', 'SOUTH_LANARKSHIRE', 'EDINBURGH', 'LANCASHIRE', 'NORTH_AYRSHIRE', 'DUMFRIES_AND_GALLOWAY'}\n"
     ]
    }
   ],
   "source": [
    "print(len(all_trait_options['location']))\n",
    "print(all_trait_options['location'])"
   ]
  },
  {
   "cell_type": "code",
   "execution_count": null,
   "metadata": {},
   "outputs": [],
   "source": []
  }
 ],
 "metadata": {
  "kernelspec": {
   "display_name": "Python 3",
   "language": "python",
   "name": "python3"
  },
  "language_info": {
   "codemirror_mode": {
    "name": "ipython",
    "version": 3
   },
   "file_extension": ".py",
   "mimetype": "text/x-python",
   "name": "python",
   "nbconvert_exporter": "python",
   "pygments_lexer": "ipython3",
   "version": "3.7.7"
  }
 },
 "nbformat": 4,
 "nbformat_minor": 4
}
